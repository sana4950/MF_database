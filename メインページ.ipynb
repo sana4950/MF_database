{
 "cells": [
  {
   "cell_type": "code",
   "execution_count": null,
   "id": "7cbf17ad",
   "metadata": {},
   "outputs": [],
   "source": [
    "import streamlit as st"
   ]
  },
  {
   "cell_type": "code",
   "execution_count": null,
   "id": "a10e7101",
   "metadata": {},
   "outputs": [],
   "source": [
    "st.title('LINE MF データベース')"
   ]
  },
  {
   "cell_type": "code",
   "execution_count": null,
   "id": "f453278a",
   "metadata": {},
   "outputs": [],
   "source": []
  }
 ],
 "metadata": {
  "kernelspec": {
   "display_name": "Python 3 (ipykernel)",
   "language": "python",
   "name": "python3"
  },
  "language_info": {
   "codemirror_mode": {
    "name": "ipython",
    "version": 3
   },
   "file_extension": ".py",
   "mimetype": "text/x-python",
   "name": "python",
   "nbconvert_exporter": "python",
   "pygments_lexer": "ipython3",
   "version": "3.11.1"
  }
 },
 "nbformat": 4,
 "nbformat_minor": 5
}
